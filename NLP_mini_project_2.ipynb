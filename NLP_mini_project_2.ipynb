{
 "cells": [
  {
   "cell_type": "code",
   "execution_count": 23,
   "id": "36265245-22b7-4024-89d2-a6a517624ef6",
   "metadata": {},
   "outputs": [
    {
     "name": "stdout",
     "output_type": "stream",
     "text": [
      "Requirement already satisfied: pytesseract in c:\\anaconda3\\lib\\site-packages (0.3.13)\n",
      "Requirement already satisfied: packaging>=21.3 in c:\\anaconda3\\lib\\site-packages (from pytesseract) (24.1)\n",
      "Requirement already satisfied: Pillow>=8.0.0 in c:\\anaconda3\\lib\\site-packages (from pytesseract) (10.4.0)\n"
     ]
    }
   ],
   "source": [
    "#!pip install language-tool-python\n",
    "#!pip install pymupdf\n",
    "#!pip install pytesseract"
   ]
  },
  {
   "cell_type": "code",
   "execution_count": null,
   "id": "3c6482e3-fa7c-45e9-a17d-cb949d8af60d",
   "metadata": {},
   "outputs": [],
   "source": [
    "import language_tool_python  # NLP-based grammar checking tool\n",
    "import pandas as pd\n",
    "import fitz\n",
    "import pytesseract\n",
    "from PIL import Image\n",
    "\n",
    "# Initialize LanguageTool for English\n",
    "tool = language_tool_python.LanguageTool('en')\n"
   ]
  },
  {
   "cell_type": "code",
   "execution_count": 5,
   "id": "b2ad5a4d-7694-480e-a06c-e28d6be2f1d5",
   "metadata": {},
   "outputs": [],
   "source": [
    "def grammar_check(text):\n",
    "    matches = tool.check(text)\n",
    "    corrected_sentences = []\n",
    "\n",
    "    for match in matches:\n",
    "        correction = match.replacements[0] if match.replacements else \"No suggestion\"\n",
    "        corrected_sentences.append({\n",
    "            \"Original Text\": text,\n",
    "            \"Error\": match.message,\n",
    "            \"Suggestion\": correction,\n",
    "            \"Incorrect Word\": text[match.offset:match.offset + len(match.context)],\n",
    "            \"Rule\": match.ruleId\n",
    "        })\n",
    "\n",
    "    return corrected_sentences\n"
   ]
  },
  {
   "cell_type": "code",
   "execution_count": 7,
   "id": "d2a996ca-8ab2-4c35-8813-37f4258329c2",
   "metadata": {},
   "outputs": [
    {
     "name": "stdout",
     "output_type": "stream",
     "text": [
      "                           Original Text  \\\n",
      "0         She go to the market everyday.   \n",
      "1         She go to the market everyday.   \n",
      "2                    I has a new laptop.   \n",
      "3  Their is a big problem in the system.   \n",
      "\n",
      "                                               Error Suggestion  \\\n",
      "0  The pronoun ‘She’ is usually used with a third...       goes   \n",
      "1  ‘Everyday’ is an adjective. Did you mean “ever...  every day   \n",
      "2  Possible agreement error — use the base form h...       have   \n",
      "3                              Did you mean “there”?      There   \n",
      "\n",
      "                          Incorrect Word                Rule  \n",
      "0             go to the market everyday.         HE_VERB_AGR  \n",
      "1                              everyday.  EVERYDAY_EVERY_DAY  \n",
      "2                      has a new laptop.           BASE_FORM  \n",
      "3  Their is a big problem in the system.            THEIR_IS  \n"
     ]
    }
   ],
   "source": [
    "sentences = [\n",
    "    \"She go to the market everyday.\",  # Incorrect verb form\n",
    "    \"I has a new laptop.\",  # Subject-verb agreement error\n",
    "    \"Their is a big problem in the system.\",  # Confused words: \"Their\" vs. \"There\"\n",
    "]\n",
    "\n",
    "# Apply grammar check\n",
    "results = []\n",
    "for sentence in sentences:\n",
    "    results.extend(grammar_check(sentence))\n",
    "\n",
    "# Convert to DataFrame for better visualization\n",
    "df_results = pd.DataFrame(results)\n",
    "print(df_results)\n"
   ]
  },
  {
   "cell_type": "code",
   "execution_count": 11,
   "id": "8f7a868d-9419-4823-8abf-80e5028a8e56",
   "metadata": {},
   "outputs": [
    {
     "name": "stdin",
     "output_type": "stream",
     "text": [
      "Enter a sentence with grammatical errors:  karthi ate drinking water\n"
     ]
    },
    {
     "name": "stdout",
     "output_type": "stream",
     "text": [
      "Error: This sentence does not start with an uppercase letter.\n",
      "Suggestion: Karthi\n",
      "Incorrect Word: karthi ate drinking water\n",
      "Rule ID: UPPERCASE_SENTENCE_START\n",
      "\n"
     ]
    }
   ],
   "source": [
    "# **Ask user for input**\n",
    "sentence = input(\"Enter a sentence with grammatical errors: \")\n",
    "\n",
    "# Apply grammar check\n",
    "results = grammar_check(sentence)\n",
    "\n",
    "# Print results\n",
    "if results:\n",
    "    for res in results:\n",
    "        print(f\"Error: {res['Error']}\")\n",
    "        print(f\"Suggestion: {res['Suggestion']}\")\n",
    "        print(f\"Incorrect Word: {res['Incorrect Word']}\")\n",
    "        print(f\"Rule ID: {res['Rule']}\\n\")\n",
    "else:\n",
    "    print(\"No grammar issues found!\")"
   ]
  },
  {
   "cell_type": "code",
   "execution_count": 13,
   "id": "c1ef6ee3-bbed-457e-94e4-c4e44285634b",
   "metadata": {},
   "outputs": [],
   "source": [
    "def extract_text_from_pdf(pdf_path):\n",
    "    doc = fitz.open(pdf_path)\n",
    "    text = \"\"\n",
    "    for page in doc:\n",
    "        text += page.get_text(\"text\") + \"\\n\"\n",
    "    return text.strip()"
   ]
  },
  {
   "cell_type": "code",
   "execution_count": 15,
   "id": "9a6e4f26-1bef-488b-bcc0-663f741da0cb",
   "metadata": {},
   "outputs": [],
   "source": [
    "pdf_path = r\"C:\\Users\\S. Sai Rahual\\Documents\\SSR22\\B.E AIML\\6th Sem\\NLP Mini Project\\grammatical_errors_paragraphs.pdf\"  # Update with your PDF file path\n",
    "extracted_text = extract_text_from_pdf(pdf_path)"
   ]
  },
  {
   "cell_type": "code",
   "execution_count": 17,
   "id": "09bd0ad4-0cdc-48e0-a97a-10d63cfd03b9",
   "metadata": {},
   "outputs": [],
   "source": [
    "# Perform grammar check\n",
    "results = grammar_check(extracted_text)"
   ]
  },
  {
   "cell_type": "code",
   "execution_count": 19,
   "id": "f1533750-6745-42a0-9592-bebe2818f38b",
   "metadata": {},
   "outputs": [
    {
     "name": "stdout",
     "output_type": "stream",
     "text": [
      "                                        Original Text  \\\n",
      "0   Paragraphs with Grammatical Errors\\nHe go to t...   \n",
      "1   Paragraphs with Grammatical Errors\\nHe go to t...   \n",
      "2   Paragraphs with Grammatical Errors\\nHe go to t...   \n",
      "3   Paragraphs with Grammatical Errors\\nHe go to t...   \n",
      "4   Paragraphs with Grammatical Errors\\nHe go to t...   \n",
      "5   Paragraphs with Grammatical Errors\\nHe go to t...   \n",
      "6   Paragraphs with Grammatical Errors\\nHe go to t...   \n",
      "7   Paragraphs with Grammatical Errors\\nHe go to t...   \n",
      "8   Paragraphs with Grammatical Errors\\nHe go to t...   \n",
      "9   Paragraphs with Grammatical Errors\\nHe go to t...   \n",
      "10  Paragraphs with Grammatical Errors\\nHe go to t...   \n",
      "11  Paragraphs with Grammatical Errors\\nHe go to t...   \n",
      "12  Paragraphs with Grammatical Errors\\nHe go to t...   \n",
      "13  Paragraphs with Grammatical Errors\\nHe go to t...   \n",
      "14  Paragraphs with Grammatical Errors\\nHe go to t...   \n",
      "\n",
      "                                                Error              Suggestion  \\\n",
      "0   The pronoun ‘He’ is usually used with a third-...                    goes   \n",
      "1   Use a comma before ‘but’ if it connects two in...                   , but   \n",
      "2   The pronoun ‘he’ is usually used with a third-...                 forgets   \n",
      "3   The adverb ‘forget’ is usually not used at the...           No suggestion   \n",
      "4   The pronoun ‘She’ is usually used with a third...                    does   \n",
      "5   After the auxiliary verb ‘do’, use the base fo...                    like   \n",
      "6   The pronoun ‘They’ must be used with a non-thi...                    play   \n",
      "7   After the auxiliary verb ‘do’, use the base fo...                    rain   \n",
      "8   The word ‘informations’ is a legal term. In st...             information   \n",
      "9   The pronoun ‘I’ must be used with a non-third-...                    read   \n",
      "10  Consider using either the past participle “imp...               impressed   \n",
      "11          Use a first-person plural verb with ‘we’.                     are   \n",
      "12  The pronoun ‘we’ must be used with a non-third...                    need   \n",
      "13             Did you mean “There are many peoples”?  There are many peoples   \n",
      "14  Did you mean “think”? Alternatively, check whe...                   think   \n",
      "\n",
      "                                       Incorrect Word  \\\n",
      "0   go to the market every Sunday to buys vegetabl...   \n",
      "1   \\nbut he forget always.\\nShe don't likes playi...   \n",
      "2   forget always.\\nShe don't likes playing cricke...   \n",
      "3   always.\\nShe don't likes playing cricket, but ...   \n",
      "4   don't likes playing cricket, but her brother d...   \n",
      "5   likes playing cricket, but her brother do. The...   \n",
      "6   plays in the park every evening when it\\ndoesn...   \n",
      "7   raining.\\nThe book was interesting and full of...   \n",
      "8   informations. I reads it in two days and was i...   \n",
      "9   reads it in two days and was impress by the\\nc...   \n",
      "10  impress by the\\ncharacters.\\nWe was going to t...   \n",
      "11  was going to the cinema but the bus break down...   \n",
      "12  needs to walk all the way. It were a tiring\\nd...   \n",
      "13  There is many peoples who thinks that success ...   \n",
      "14  thinks that success comes easy, but it's not t...   \n",
      "\n",
      "                                     Rule  \n",
      "0                             HE_VERB_AGR  \n",
      "1                 COMMA_COMPOUND_SENTENCE  \n",
      "2                             HE_VERB_AGR  \n",
      "3                       ADVERB_WORD_ORDER  \n",
      "4                             HE_VERB_AGR  \n",
      "5   AUXILIARY_DO_WITH_INCORRECT_VERB_FORM  \n",
      "6                            NON3PRS_VERB  \n",
      "7   AUXILIARY_DO_WITH_INCORRECT_VERB_FORM  \n",
      "8                            INFORMATIONS  \n",
      "9                            NON3PRS_VERB  \n",
      "10                    BEEN_PART_AGREEMENT  \n",
      "11                 PERS_PRONOUN_AGREEMENT  \n",
      "12                           NON3PRS_VERB  \n",
      "13                           THERE_S_MANY  \n",
      "14              RELATIVE_CLAUSE_AGREEMENT  \n"
     ]
    }
   ],
   "source": [
    "# Convert to DataFrame for better visualization\n",
    "df_results = pd.DataFrame(results)\n",
    "print(df_results)"
   ]
  }
 ],
 "metadata": {
  "kernelspec": {
   "display_name": "Python [conda env:base] *",
   "language": "python",
   "name": "conda-base-py"
  },
  "language_info": {
   "codemirror_mode": {
    "name": "ipython",
    "version": 3
   },
   "file_extension": ".py",
   "mimetype": "text/x-python",
   "name": "python",
   "nbconvert_exporter": "python",
   "pygments_lexer": "ipython3",
   "version": "3.12.7"
  }
 },
 "nbformat": 4,
 "nbformat_minor": 5
}
